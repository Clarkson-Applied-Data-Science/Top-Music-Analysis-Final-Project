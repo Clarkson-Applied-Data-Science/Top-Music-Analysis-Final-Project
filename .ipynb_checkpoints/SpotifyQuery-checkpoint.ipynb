{
 "cells": [
  {
   "cell_type": "code",
   "execution_count": 35,
   "id": "ed439681-c8b7-41fb-9ee2-1659e3abe59a",
   "metadata": {},
   "outputs": [
    {
     "name": "stdout",
     "output_type": "stream",
     "text": [
      "4Grf0widY4dv9T958DyL9u\n"
     ]
    }
   ],
   "source": [
    "'https://open.spotify.com/track/2S4SIzDlrZ0makE4c6FLav?si=3c855417612647de'\n",
    "import spotipy, requests, urllib\n",
    "from spotipy.oauth2 import SpotifyOAuth\n",
    "\n",
    "#os.environ['SPOTIPY_CLIENT_ID'] = \"b3cbfb31f3354e3c9aedf34fc44cc047\"\n",
    "#os.environ['SPOTIPY_CLIENT_SECRET'] = \"e82031b1ad464df1ba4bf671ba89fc2b\"\n",
    "token='BQA5-wOmX0EY1B80eVCTTEEv0oBGsh0x2FaFXxNfcixgvO2EAOrOsv82Nzvp11Gja9irEST--QhoJJIu1YzG62UqW-RYwfXDnOjyTz8pUvQeufhVImkvHV08wGRZuQxrTu84a91ob3sPNm9EZ1fgYbgV'\n",
    "\n",
    "artist_track='White Walls by Macklemore'\n",
    "\n",
    "lookup = urllib.parse.quote(f'{artist_track}')\n",
    "url=f'https://api.spotify.com/v1/search?q={lookup}&type=track'\n",
    "responce=requests.get(\n",
    "    url,\n",
    "    headers={\n",
    "            'Content-Type': 'application/json',\n",
    "            'Authorization': f'Bearer {token}'\n",
    "    }\n",
    ")\n",
    "responce_json=responce.json()\n",
    "results=responce_json['tracks']['items']\n",
    "#print(results)\n",
    "if results:\n",
    "    print(results[0]['id'])\n",
    "else:\n",
    "    print('no results')\n",
    "#print(responce_json)"
   ]
  },
  {
   "cell_type": "code",
   "execution_count": 36,
   "id": "ad7ed873-bf3d-4e9e-a28e-c159f68ede71",
   "metadata": {},
   "outputs": [
    {
     "name": "stdout",
     "output_type": "stream",
     "text": [
      "{'danceability': 0.637, 'energy': 0.462, 'speechiness': 0.0421, 'instrumentalness': 0.881, 'tempo': 116.48, 'valence': 0.141, 'duration_ms': 352810}\n"
     ]
    }
   ],
   "source": [
    "url='https://api.spotify.com/v1/audio-features/'+results[0]['id']\n",
    "responce=requests.get(\n",
    "    url,\n",
    "    headers={\n",
    "            'Content-Type': 'application/json',\n",
    "            'Authorization': f'Bearer {token}'\n",
    "    }\n",
    ")\n",
    "responce_json=responce.json()\n",
    "#print(responce_json)\n",
    "songdata={}\n",
    "songdata['danceability']=responce_json['danceability']\n",
    "songdata['energy']=responce_json['energy']\n",
    "songdata['speechiness']=responce_json['speechiness']\n",
    "songdata['instrumentalness']=responce_json['instrumentalness']\n",
    "songdata['tempo']=responce_json['tempo']\n",
    "songdata['valence']=responce_json['valence']\n",
    "songdata['duration_ms']=responce_json['duration_ms']\n",
    "print(songdata)"
   ]
  }
 ],
 "metadata": {
  "kernelspec": {
   "display_name": "Python 3 (ipykernel)",
   "language": "python",
   "name": "python3"
  },
  "language_info": {
   "codemirror_mode": {
    "name": "ipython",
    "version": 3
   },
   "file_extension": ".py",
   "mimetype": "text/x-python",
   "name": "python",
   "nbconvert_exporter": "python",
   "pygments_lexer": "ipython3",
   "version": "3.7.0"
  }
 },
 "nbformat": 4,
 "nbformat_minor": 5
}
