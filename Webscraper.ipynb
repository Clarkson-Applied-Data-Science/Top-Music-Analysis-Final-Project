{
 "cells": [
  {
   "cell_type": "code",
   "execution_count": 2,
   "id": "2f67a584-556f-4949-a3f0-9233ab5bd11d",
   "metadata": {
    "tags": []
   },
   "outputs": [
    {
     "name": "stdout",
     "output_type": "stream",
     "text": [
      "1 Theme from A Summer Place by Percy Faith\n",
      "2 He'll Have to Go by Jim Reeves\n",
      "3 Cathy's Clown by The Everly Brothers\n",
      "4 Running Bear by Johnny Preston\n",
      "5 Teen Angel by Mark Dinning\n",
      "6 I'm Sorry by Brenda Lee\n",
      "7 It's Now or Never by Elvis Presley\n",
      "8 Handy Man by Jimmy Jones\n",
      "9 Stuck on You by Elvis Presley\n",
      "10 The Twist by Chubby Checker\n",
      "11 Everybody's Somebody's Fool by Connie Francis\n",
      "12 Wild One by Bobby Rydell\n",
      "13 Greenfields by The Brothers Four\n",
      "14 What in the World's Come Over You by Jack Scott\n",
      "15 El Paso by Marty Robbins\n",
      "16 Alley Oop by The Hollywood Argyles\n",
      "17 My Heart Has a Mind of Its Own by Connie Francis\n",
      "18 Sweet Nothin's by Brenda Lee\n",
      "19 Itsy Bitsy Teenie Weenie Yellow Polka Dot Bikini by Brian Hyland\n",
      "20 Only the Lonely by Roy Orbison\n",
      "21 Where or When by Dion and the Belmonts\n",
      "22 Sixteen Reasons by Connie Stevens\n",
      "23 Puppy Love by Paul Anka\n",
      "24 Why by Frankie Avalon\n",
      "25 Walk, Don't Run by The Ventures\n",
      "26 Save the Last Dance for Me by The Drifters\n",
      "27 Baby (You've Got What It Takes) by Dinah Washington\n",
      "28 Sink the Bismarck by Johnny Horton\n",
      "29 Chain Gang by Sam Cooke\n",
      "30 Let It Be Me by The Everly Brothers\n",
      "31 Good Timin' by Jimmy Jones\n",
      "32 Beyond the Sea by Bobby Darin\n",
      "33 Go, Jimmy, Go by Jimmy Clanton\n",
      "34 \"Night\" by Jackie Wilson\n",
      "35 Burning Bridges by Jack Scott\n",
      "36 The Big Hurt by Toni Fisher\n",
      "37 Because They're Young by Duane Eddy\n",
      "38 Lonely Blue Boy by Conway Twitty\n",
      "39 Pretty Blue Eyes by Steve Lawrence\n",
      "40 Way Down Yonder in New Orleans by Freddy Cannon\n",
      "41 Paper Roses by Anita Bryant\n",
      "42 Mr. Custer by Larry Verne\n",
      "43 I Want to Be Wanted by Brenda Lee\n",
      "44 Mule Skinner Blues by The Fendermen\n",
      "45 Cradle of Love by Johnny Preston\n",
      "46 You Got What It Takes by Marv Johnson\n",
      "47 Please Help Me, I'm Falling by Hank Locklin\n",
      "48 Love You So by Ron Holden\n",
      "49 Finger Poppin' Time by Hank Ballard\n",
      "50 Harbor Lights by The Platters\n",
      "51 Let the Little Girl Dance by Billy Bland\n",
      "52 He'll Have to Stay by Jeanne Black\n",
      "53 Theme from <i>The Apartment</i> by Ferrante & Teicher\n",
      "54 Volare by Bobby Rydell\n",
      "55 A Million to One by Jimmy Charles\n",
      "56 The Village of St. Bernadette by Andy Williams\n",
      "57 White Silver Sands by Bill Black&#39;s Combo\n",
      "58 The Old Lamp-Lighter by The Browns\n",
      "59 Devil or Angel by Bobby Vee\n",
      "60 Down by the Station by The Four Preps\n"
     ]
    },
    {
     "ename": "IndexError",
     "evalue": "list index out of range",
     "output_type": "error",
     "traceback": [
      "\u001b[1;31m---------------------------------------------------------------------------\u001b[0m",
      "\u001b[1;31mIndexError\u001b[0m                                Traceback (most recent call last)",
      "Input \u001b[1;32mIn [2]\u001b[0m, in \u001b[0;36m<module>\u001b[1;34m\u001b[0m\n\u001b[0;32m     20\u001b[0m \u001b[38;5;28;01melse\u001b[39;00m:\n\u001b[0;32m     21\u001b[0m     song\u001b[38;5;241m=\u001b[39msong_row\u001b[38;5;241m.\u001b[39msplit(\u001b[38;5;124m'\u001b[39m\u001b[38;5;124m\"\u001b[39m\u001b[38;5;124m'\u001b[39m)[\u001b[38;5;241m1\u001b[39m]\u001b[38;5;241m.\u001b[39msplit(\u001b[38;5;124m'\u001b[39m\u001b[38;5;124m\"\u001b[39m\u001b[38;5;124m</td>\u001b[39m\u001b[38;5;124m'\u001b[39m)[\u001b[38;5;241m0\u001b[39m]\n\u001b[1;32m---> 22\u001b[0m artist\u001b[38;5;241m=\u001b[39m\u001b[43mrow\u001b[49m\u001b[38;5;241;43m.\u001b[39;49m\u001b[43msplit\u001b[49m\u001b[43m(\u001b[49m\u001b[38;5;124;43m'\u001b[39;49m\u001b[38;5;124;43m<td>\u001b[39;49m\u001b[38;5;124;43m'\u001b[39;49m\u001b[43m)\u001b[49m\u001b[43m[\u001b[49m\u001b[38;5;241;43m3\u001b[39;49m\u001b[43m]\u001b[49m\u001b[38;5;241;43m.\u001b[39;49m\u001b[43msplit\u001b[49m\u001b[43m(\u001b[49m\u001b[38;5;124;43m'\u001b[39;49m\u001b[38;5;124;43mtitle=\u001b[39;49m\u001b[38;5;124;43m\"\u001b[39;49m\u001b[38;5;124;43m'\u001b[39;49m\u001b[43m)\u001b[49m\u001b[43m[\u001b[49m\u001b[38;5;241;43m1\u001b[39;49m\u001b[43m]\u001b[49m\u001b[38;5;241m.\u001b[39msplit(\u001b[38;5;124m'\u001b[39m\u001b[38;5;124m\"\u001b[39m\u001b[38;5;124m>\u001b[39m\u001b[38;5;124m'\u001b[39m)[\u001b[38;5;241m0\u001b[39m]\u001b[38;5;241m.\u001b[39msplit(\u001b[38;5;124m'\u001b[39m\u001b[38;5;124m (\u001b[39m\u001b[38;5;124m'\u001b[39m)[\u001b[38;5;241m0\u001b[39m]\n\u001b[0;32m     23\u001b[0m artist\u001b[38;5;241m=\u001b[39martist\u001b[38;5;241m.\u001b[39mreplace(\u001b[38;5;124m'\u001b[39m\u001b[38;5;124m&amp;\u001b[39m\u001b[38;5;124m'\u001b[39m,\u001b[38;5;124m'\u001b[39m\u001b[38;5;124m&\u001b[39m\u001b[38;5;124m'\u001b[39m)\n\u001b[0;32m     24\u001b[0m \u001b[38;5;28mprint\u001b[39m(n, song, \u001b[38;5;124m'\u001b[39m\u001b[38;5;124mby\u001b[39m\u001b[38;5;124m'\u001b[39m, artist)\n",
      "\u001b[1;31mIndexError\u001b[0m: list index out of range"
     ]
    }
   ],
   "source": [
    "import requests\n",
    "#from bs4 import BeautifulSoup\n",
    "#1959 is the first year with a list of 100\n",
    "year='1960'\n",
    "url=f'https://en.wikipedia.org/wiki/Billboard_Year-End_Hot_100_singles_of_{year}'\n",
    "\n",
    "r=requests.get(url)\n",
    "\n",
    "table=r.text.split('</th></tr>')[1].split('</td></tr></tbody></table>')[0]\n",
    "n=0\n",
    "rows=table.split('<tr>')\n",
    "for row in rows:\n",
    "    if n!=101:\n",
    "        if n!=0:\n",
    "            #print(n,row)\n",
    "            song_row=row.split('<td>')[2]\n",
    "            title_count=song_row.count('title=')\n",
    "            if title_count != 0:\n",
    "                song=song_row.split('title=\"')[title_count].split('</a>\"</td>')[0].split('\">')[1].split('</a>')[0]\n",
    "            else:\n",
    "                song=song_row.split('\"')[1].split('\"</td>')[0]\n",
    "            artist=row.split('<td>')[3].split('title=\"')[1].split('\">')[0].split(' (')[0]\n",
    "            artist=artist.replace('&amp;','&')\n",
    "            print(n, song, 'by', artist)\n",
    "        n+=1\n",
    "print('done')"
   ]
  }
 ],
 "metadata": {
  "kernelspec": {
   "display_name": "Python 3 (ipykernel)",
   "language": "python",
   "name": "python3"
  },
  "language_info": {
   "codemirror_mode": {
    "name": "ipython",
    "version": 3
   },
   "file_extension": ".py",
   "mimetype": "text/x-python",
   "name": "python",
   "nbconvert_exporter": "python",
   "pygments_lexer": "ipython3",
   "version": "3.10.2"
  }
 },
 "nbformat": 4,
 "nbformat_minor": 5
}
