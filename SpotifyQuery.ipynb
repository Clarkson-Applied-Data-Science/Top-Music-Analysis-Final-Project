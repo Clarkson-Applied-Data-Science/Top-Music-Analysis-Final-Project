{
 "cells": [
  {
   "cell_type": "code",
   "execution_count": 1,
   "id": "ed439681-c8b7-41fb-9ee2-1659e3abe59a",
   "metadata": {},
   "outputs": [
    {
     "ename": "KeyError",
     "evalue": "'tracks'",
     "output_type": "error",
     "traceback": [
      "\u001b[1;31m---------------------------------------------------------------------------\u001b[0m",
      "\u001b[1;31mKeyError\u001b[0m                                  Traceback (most recent call last)",
      "\u001b[1;32mC:\\Users\\DATA2~1.0\\AppData\\Local\\Temp/ipykernel_5828/269896798.py\u001b[0m in \u001b[0;36m<module>\u001b[1;34m\u001b[0m\n\u001b[0;32m     18\u001b[0m )\n\u001b[0;32m     19\u001b[0m \u001b[0mresponce_json\u001b[0m\u001b[1;33m=\u001b[0m\u001b[0mresponce\u001b[0m\u001b[1;33m.\u001b[0m\u001b[0mjson\u001b[0m\u001b[1;33m(\u001b[0m\u001b[1;33m)\u001b[0m\u001b[1;33m\u001b[0m\u001b[0m\n\u001b[1;32m---> 20\u001b[1;33m \u001b[0mresults\u001b[0m\u001b[1;33m=\u001b[0m\u001b[0mresponce_json\u001b[0m\u001b[1;33m[\u001b[0m\u001b[1;34m'tracks'\u001b[0m\u001b[1;33m]\u001b[0m\u001b[1;33m[\u001b[0m\u001b[1;34m'items'\u001b[0m\u001b[1;33m]\u001b[0m\u001b[1;33m\u001b[0m\u001b[0m\n\u001b[0m\u001b[0;32m     21\u001b[0m \u001b[1;31m#print(results)\u001b[0m\u001b[1;33m\u001b[0m\u001b[1;33m\u001b[0m\u001b[0m\n\u001b[0;32m     22\u001b[0m \u001b[1;32mif\u001b[0m \u001b[0mresults\u001b[0m\u001b[1;33m:\u001b[0m\u001b[1;33m\u001b[0m\u001b[0m\n",
      "\u001b[1;31mKeyError\u001b[0m: 'tracks'"
     ]
    }
   ],
   "source": [
    "'https://open.spotify.com/track/2S4SIzDlrZ0makE4c6FLav?si=3c855417612647de'\n",
    "import spotipy, requests, urllib\n",
    "\n",
    "token='BQDiZbkXTGJUyZMH9hSTvPYko3FWnwGYE44NmXVSCH6DMWmcXAwEkVr0MtqOY0yKndH4mhV5iK0xa1XBO6vJV4UKBFkBEB-2pJGvvrO_rbwk_smdC_j37PGgAq7SoDmPI63k8qqpb3FwyRg9bKEL6SF7'\n",
    "\n",
    "artist_track='The Village of St. Bernadette Andy Williams'\n",
    "lookup=artist_track.replace(' ','%20')\n",
    "#lookup = urllib.parse.quote(f'{artist_track}')\n",
    "url=f'https://api.spotify.com/v1/search?q={lookup}&type=track'\n",
    "#print(url)\n",
    "\n",
    "responce=requests.get(\n",
    "    url,\n",
    "    headers={\n",
    "            'Content-Type': 'application/json',\n",
    "            'Authorization': f'Bearer {token}'\n",
    "    }\n",
    ")\n",
    "responce_json=responce.json()\n",
    "results=responce_json['tracks']['items']\n",
    "#print(results)\n",
    "if results:\n",
    "    print(results[0]['id'])\n",
    "else:\n",
    "    print('no results')\n",
    "#print(responce_json)"
   ]
  },
  {
   "cell_type": "code",
   "execution_count": 22,
   "id": "ad7ed873-bf3d-4e9e-a28e-c159f68ede71",
   "metadata": {},
   "outputs": [
    {
     "name": "stdout",
     "output_type": "stream",
     "text": [
      "{'id': '2S4SIzDlrZ0makE4c6FLav', 'danceability': 0.592, 'energy': 0.901, 'speechiness': 0.0349, 'instrumentalness': 2.11e-05, 'tempo': 105.065, 'valence': 0.836, 'duration_ms': 225318}\n"
     ]
    }
   ],
   "source": [
    "url='https://api.spotify.com/v1/audio-features/'+results[0]['id']\n",
    "responce=requests.get(\n",
    "    url,\n",
    "    headers={\n",
    "            'Content-Type': 'application/json',\n",
    "            'Authorization': f'Bearer {token}'\n",
    "    }\n",
    ")\n",
    "responce_json=responce.json()\n",
    "#print(responce_json)\n",
    "songdata={}\n",
    "songdata['id']=results[0]['id']\n",
    "songdata['danceability']=responce_json['danceability']\n",
    "songdata['energy']=responce_json['energy']\n",
    "songdata['speechiness']=responce_json['speechiness']\n",
    "songdata['instrumentalness']=responce_json['instrumentalness']\n",
    "songdata['tempo']=responce_json['tempo']\n",
    "songdata['valence']=responce_json['valence']\n",
    "songdata['duration_ms']=responce_json['duration_ms']\n",
    "print(songdata)"
   ]
  }
 ],
 "metadata": {
  "kernelspec": {
   "display_name": "Python 3 (ipykernel)",
   "language": "python",
   "name": "python3"
  },
  "language_info": {
   "codemirror_mode": {
    "name": "ipython",
    "version": 3
   },
   "file_extension": ".py",
   "mimetype": "text/x-python",
   "name": "python",
   "nbconvert_exporter": "python",
   "pygments_lexer": "ipython3",
   "version": "3.7.0"
  }
 },
 "nbformat": 4,
 "nbformat_minor": 5
}
